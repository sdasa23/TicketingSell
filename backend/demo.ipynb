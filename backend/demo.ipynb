{
 "cells": [
  {
   "cell_type": "code",
   "execution_count": 11,
   "metadata": {},
   "outputs": [
    {
     "data": {
      "text/plain": [
       "112"
      ]
     },
     "execution_count": 11,
     "metadata": {},
     "output_type": "execute_result"
    }
   ],
   "source": [
    "from config import config\n",
    "from web3 import Web3, HTTPProvider \n",
    "w3 = Web3(HTTPProvider(config.web3_address))\n",
    "organizer = \"0x0c72AA9b5D65E85CCC228e936497Ba7DaFe03A30\"\n",
    "event = \"0x728F67651d435410b45dbAD135A3B1E098292a5A\"\n",
    "market = \"0x91b585007038e68f5c1Ce99333A3a40aC292A8d2\"\n",
    "nonce = w3.eth.get_transaction_count(organizer)\n",
    "EventNTF_contract = w3.eth.contract(abi=config.EventNFT_abi, address=event)\n",
    "# EventNTF_contract.functions.getUnsoldTicketID(1).call()\n",
    "\n",
    "EventNTF_contract.functions.getUnsoldTicketID(0).call()\n"
   ]
  },
  {
   "cell_type": "code",
   "execution_count": null,
   "metadata": {},
   "outputs": [],
   "source": []
  },
  {
   "cell_type": "code",
   "execution_count": 14,
   "metadata": {},
   "outputs": [
    {
     "name": "stdout",
     "output_type": "stream",
     "text": [
      "0\n"
     ]
    }
   ],
   "source": [
    "for i in range(0+1):\n",
    "    print(i)"
   ]
  },
  {
   "cell_type": "code",
   "execution_count": 3,
   "metadata": {},
   "outputs": [
    {
     "ename": "BadResponseFormat",
     "evalue": "The response was in an unexpected format and unable to be parsed. Response cannot include both \"error\" and \"result\". The raw response is: {'id': 2, 'jsonrpc': '2.0', 'result': '0x8cee6b04501420f56c44a99b43c70a791eb3276c0c4ad25aecb695477815a9e9', 'error': {'message': 'VM Exception while processing transaction: revert', 'code': -32000, 'data': {'0x8cee6b04501420f56c44a99b43c70a791eb3276c0c4ad25aecb695477815a9e9': {'error': 'revert', 'program_counter': 1319, 'return': '0x4e487b710000000000000000000000000000000000000000000000000000000000000032'}, 'stack': 'c: VM Exception while processing transaction: revert\\n    at Function.c.fromResults (/usr/local/lib/node_modules/ganache-cli/build/ganache-core.node.cli.js:4:192416)\\n    at w.processBlock (/usr/local/lib/node_modules/ganache-cli/build/ganache-core.node.cli.js:42:50915)\\n    at runMicrotasks (<anonymous>)\\n    at processTicksAndRejections (internal/process/task_queues.js:97:5)', 'name': 'c'}}}",
     "output_type": "error",
     "traceback": [
      "\u001b[0;31m---------------------------------------------------------------------------\u001b[0m",
      "\u001b[0;31mBadResponseFormat\u001b[0m                         Traceback (most recent call last)",
      "Cell \u001b[0;32mIn[3], line 18\u001b[0m\n\u001b[1;32m      9\u001b[0m transaction \u001b[38;5;241m=\u001b[39m EventMarketplace_contract\u001b[38;5;241m.\u001b[39mfunctions\u001b[38;5;241m.\u001b[39mpurchaseTicket(\u001b[38;5;241m0\u001b[39m, buyer)\u001b[38;5;241m.\u001b[39mbuild_transaction({\n\u001b[1;32m     10\u001b[0m     \u001b[38;5;124m\"\u001b[39m\u001b[38;5;124mchainId\u001b[39m\u001b[38;5;124m\"\u001b[39m: config\u001b[38;5;241m.\u001b[39mchain_id,\n\u001b[1;32m     11\u001b[0m     \u001b[38;5;124m\"\u001b[39m\u001b[38;5;124mgas\u001b[39m\u001b[38;5;124m\"\u001b[39m: \u001b[38;5;241m160000000000000\u001b[39m,\n\u001b[1;32m     12\u001b[0m     \u001b[38;5;124m\"\u001b[39m\u001b[38;5;124mgasPrice\u001b[39m\u001b[38;5;124m\"\u001b[39m:  w3\u001b[38;5;241m.\u001b[39meth\u001b[38;5;241m.\u001b[39mgas_price,\n\u001b[1;32m     13\u001b[0m     \u001b[38;5;124m\"\u001b[39m\u001b[38;5;124mnonce\u001b[39m\u001b[38;5;124m\"\u001b[39m: nonce\n\u001b[1;32m     14\u001b[0m })\n\u001b[1;32m     16\u001b[0m signed_txn \u001b[38;5;241m=\u001b[39m w3\u001b[38;5;241m.\u001b[39meth\u001b[38;5;241m.\u001b[39maccount\u001b[38;5;241m.\u001b[39msign_transaction(transaction, private_key\u001b[38;5;241m=\u001b[39m config\u001b[38;5;241m.\u001b[39madmin_key)\n\u001b[0;32m---> 18\u001b[0m tx_hash \u001b[38;5;241m=\u001b[39m \u001b[43mw3\u001b[49m\u001b[38;5;241;43m.\u001b[39;49m\u001b[43meth\u001b[49m\u001b[38;5;241;43m.\u001b[39;49m\u001b[43msend_raw_transaction\u001b[49m\u001b[43m(\u001b[49m\u001b[43msigned_txn\u001b[49m\u001b[38;5;241;43m.\u001b[39;49m\u001b[43mraw_transaction\u001b[49m\u001b[43m)\u001b[49m\n\u001b[1;32m     19\u001b[0m tx_receipt \u001b[38;5;241m=\u001b[39m w3\u001b[38;5;241m.\u001b[39meth\u001b[38;5;241m.\u001b[39mwait_for_transaction_receipt(tx_hash)\n",
      "File \u001b[0;32m/usr/local/lib/python3.10/dist-packages/web3/eth/eth.py:396\u001b[0m, in \u001b[0;36mEth.send_raw_transaction\u001b[0;34m(self, transaction)\u001b[0m\n\u001b[1;32m    395\u001b[0m \u001b[38;5;28;01mdef\u001b[39;00m \u001b[38;5;21msend_raw_transaction\u001b[39m(\u001b[38;5;28mself\u001b[39m, transaction: Union[HexStr, \u001b[38;5;28mbytes\u001b[39m]) \u001b[38;5;241m-\u001b[39m\u001b[38;5;241m>\u001b[39m HexBytes:\n\u001b[0;32m--> 396\u001b[0m     \u001b[38;5;28;01mreturn\u001b[39;00m \u001b[38;5;28;43mself\u001b[39;49m\u001b[38;5;241;43m.\u001b[39;49m\u001b[43m_send_raw_transaction\u001b[49m\u001b[43m(\u001b[49m\u001b[43mtransaction\u001b[49m\u001b[43m)\u001b[49m\n",
      "File \u001b[0;32m/usr/local/lib/python3.10/dist-packages/web3/module.py:112\u001b[0m, in \u001b[0;36mretrieve_blocking_method_call_fn.<locals>.caller\u001b[0;34m(*args, **kwargs)\u001b[0m\n\u001b[1;32m    105\u001b[0m     \u001b[38;5;28;01mreturn\u001b[39;00m LogFilter(eth_module\u001b[38;5;241m=\u001b[39mmodule, filter_id\u001b[38;5;241m=\u001b[39merr\u001b[38;5;241m.\u001b[39mfilter_id)\n\u001b[1;32m    107\u001b[0m (\n\u001b[1;32m    108\u001b[0m     result_formatters,\n\u001b[1;32m    109\u001b[0m     error_formatters,\n\u001b[1;32m    110\u001b[0m     null_result_formatters,\n\u001b[1;32m    111\u001b[0m ) \u001b[38;5;241m=\u001b[39m response_formatters\n\u001b[0;32m--> 112\u001b[0m result \u001b[38;5;241m=\u001b[39m \u001b[43mw3\u001b[49m\u001b[38;5;241;43m.\u001b[39;49m\u001b[43mmanager\u001b[49m\u001b[38;5;241;43m.\u001b[39;49m\u001b[43mrequest_blocking\u001b[49m\u001b[43m(\u001b[49m\n\u001b[1;32m    113\u001b[0m \u001b[43m    \u001b[49m\u001b[43mmethod_str\u001b[49m\u001b[43m,\u001b[49m\u001b[43m \u001b[49m\u001b[43mparams\u001b[49m\u001b[43m,\u001b[49m\u001b[43m \u001b[49m\u001b[43merror_formatters\u001b[49m\u001b[43m,\u001b[49m\u001b[43m \u001b[49m\u001b[43mnull_result_formatters\u001b[49m\n\u001b[1;32m    114\u001b[0m \u001b[43m\u001b[49m\u001b[43m)\u001b[49m\n\u001b[1;32m    115\u001b[0m \u001b[38;5;28;01mreturn\u001b[39;00m apply_result_formatters(result_formatters, result)\n",
      "File \u001b[0;32m/usr/local/lib/python3.10/dist-packages/web3/manager.py:232\u001b[0m, in \u001b[0;36mRequestManager.request_blocking\u001b[0;34m(self, method, params, error_formatters, null_result_formatters)\u001b[0m\n\u001b[1;32m    228\u001b[0m \u001b[38;5;250m\u001b[39m\u001b[38;5;124;03m\"\"\"\u001b[39;00m\n\u001b[1;32m    229\u001b[0m \u001b[38;5;124;03mMake a synchronous request using the provider\u001b[39;00m\n\u001b[1;32m    230\u001b[0m \u001b[38;5;124;03m\"\"\"\u001b[39;00m\n\u001b[1;32m    231\u001b[0m response \u001b[38;5;241m=\u001b[39m \u001b[38;5;28mself\u001b[39m\u001b[38;5;241m.\u001b[39m_make_request(method, params)\n\u001b[0;32m--> 232\u001b[0m \u001b[38;5;28;01mreturn\u001b[39;00m \u001b[38;5;28;43mself\u001b[39;49m\u001b[38;5;241;43m.\u001b[39;49m\u001b[43mformatted_response\u001b[49m\u001b[43m(\u001b[49m\n\u001b[1;32m    233\u001b[0m \u001b[43m    \u001b[49m\u001b[43mresponse\u001b[49m\u001b[43m,\u001b[49m\u001b[43m \u001b[49m\u001b[43mparams\u001b[49m\u001b[43m,\u001b[49m\u001b[43m \u001b[49m\u001b[43merror_formatters\u001b[49m\u001b[43m,\u001b[49m\u001b[43m \u001b[49m\u001b[43mnull_result_formatters\u001b[49m\n\u001b[1;32m    234\u001b[0m \u001b[43m\u001b[49m\u001b[43m)\u001b[49m\n",
      "File \u001b[0;32m/usr/local/lib/python3.10/dist-packages/web3/manager.py:198\u001b[0m, in \u001b[0;36mRequestManager.formatted_response\u001b[0;34m(self, response, params, error_formatters, null_result_formatters)\u001b[0m\n\u001b[1;32m    184\u001b[0m \u001b[38;5;28;01mdef\u001b[39;00m \u001b[38;5;21mformatted_response\u001b[39m(\n\u001b[1;32m    185\u001b[0m     \u001b[38;5;28mself\u001b[39m,\n\u001b[1;32m    186\u001b[0m     response: RPCResponse,\n\u001b[0;32m   (...)\u001b[0m\n\u001b[1;32m    189\u001b[0m     null_result_formatters: Optional[Callable[\u001b[38;5;241m.\u001b[39m\u001b[38;5;241m.\u001b[39m\u001b[38;5;241m.\u001b[39m, Any]] \u001b[38;5;241m=\u001b[39m \u001b[38;5;28;01mNone\u001b[39;00m,\n\u001b[1;32m    190\u001b[0m ) \u001b[38;5;241m-\u001b[39m\u001b[38;5;241m>\u001b[39m Any:\n\u001b[1;32m    191\u001b[0m     is_subscription_response \u001b[38;5;241m=\u001b[39m (\n\u001b[1;32m    192\u001b[0m         response\u001b[38;5;241m.\u001b[39mget(\u001b[38;5;124m\"\u001b[39m\u001b[38;5;124mmethod\u001b[39m\u001b[38;5;124m\"\u001b[39m) \u001b[38;5;241m==\u001b[39m \u001b[38;5;124m\"\u001b[39m\u001b[38;5;124meth_subscription\u001b[39m\u001b[38;5;124m\"\u001b[39m\n\u001b[1;32m    193\u001b[0m         \u001b[38;5;129;01mand\u001b[39;00m response\u001b[38;5;241m.\u001b[39mget(\u001b[38;5;124m\"\u001b[39m\u001b[38;5;124mparams\u001b[39m\u001b[38;5;124m\"\u001b[39m) \u001b[38;5;129;01mis\u001b[39;00m \u001b[38;5;129;01mnot\u001b[39;00m \u001b[38;5;28;01mNone\u001b[39;00m\n\u001b[1;32m    194\u001b[0m         \u001b[38;5;129;01mand\u001b[39;00m response[\u001b[38;5;124m\"\u001b[39m\u001b[38;5;124mparams\u001b[39m\u001b[38;5;124m\"\u001b[39m]\u001b[38;5;241m.\u001b[39mget(\u001b[38;5;124m\"\u001b[39m\u001b[38;5;124msubscription\u001b[39m\u001b[38;5;124m\"\u001b[39m) \u001b[38;5;129;01mis\u001b[39;00m \u001b[38;5;129;01mnot\u001b[39;00m \u001b[38;5;28;01mNone\u001b[39;00m\n\u001b[1;32m    195\u001b[0m         \u001b[38;5;129;01mand\u001b[39;00m response[\u001b[38;5;124m\"\u001b[39m\u001b[38;5;124mparams\u001b[39m\u001b[38;5;124m\"\u001b[39m]\u001b[38;5;241m.\u001b[39mget(\u001b[38;5;124m\"\u001b[39m\u001b[38;5;124mresult\u001b[39m\u001b[38;5;124m\"\u001b[39m) \u001b[38;5;129;01mis\u001b[39;00m \u001b[38;5;129;01mnot\u001b[39;00m \u001b[38;5;28;01mNone\u001b[39;00m\n\u001b[1;32m    196\u001b[0m     )\n\u001b[0;32m--> 198\u001b[0m     \u001b[43mvalidate_rpc_response_and_raise_if_error\u001b[49m\u001b[43m(\u001b[49m\n\u001b[1;32m    199\u001b[0m \u001b[43m        \u001b[49m\u001b[43mresponse\u001b[49m\u001b[43m,\u001b[49m\n\u001b[1;32m    200\u001b[0m \u001b[43m        \u001b[49m\u001b[43merror_formatters\u001b[49m\u001b[43m,\u001b[49m\n\u001b[1;32m    201\u001b[0m \u001b[43m        \u001b[49m\u001b[43mis_subscription_response\u001b[49m\u001b[38;5;241;43m=\u001b[39;49m\u001b[43mis_subscription_response\u001b[49m\u001b[43m,\u001b[49m\n\u001b[1;32m    202\u001b[0m \u001b[43m        \u001b[49m\u001b[43mlogger\u001b[49m\u001b[38;5;241;43m=\u001b[39;49m\u001b[38;5;28;43mself\u001b[39;49m\u001b[38;5;241;43m.\u001b[39;49m\u001b[43mlogger\u001b[49m\u001b[43m,\u001b[49m\n\u001b[1;32m    203\u001b[0m \u001b[43m        \u001b[49m\u001b[43mparams\u001b[49m\u001b[38;5;241;43m=\u001b[39;49m\u001b[43mparams\u001b[49m\u001b[43m,\u001b[49m\n\u001b[1;32m    204\u001b[0m \u001b[43m    \u001b[49m\u001b[43m)\u001b[49m\n\u001b[1;32m    206\u001b[0m     \u001b[38;5;66;03m# format results\u001b[39;00m\n\u001b[1;32m    207\u001b[0m     \u001b[38;5;28;01mif\u001b[39;00m \u001b[38;5;124m\"\u001b[39m\u001b[38;5;124mresult\u001b[39m\u001b[38;5;124m\"\u001b[39m \u001b[38;5;129;01min\u001b[39;00m response:\n\u001b[1;32m    208\u001b[0m         \u001b[38;5;66;03m# Null values for result should apply null_result_formatters\u001b[39;00m\n\u001b[1;32m    209\u001b[0m         \u001b[38;5;66;03m# Skip when result not present in the response (fallback to False)\u001b[39;00m\n",
      "File \u001b[0;32m/usr/local/lib/python3.10/dist-packages/web3/_utils/validation.py:327\u001b[0m, in \u001b[0;36mvalidate_rpc_response_and_raise_if_error\u001b[0;34m(response, error_formatters, is_subscription_response, logger, params)\u001b[0m\n\u001b[1;32m    320\u001b[0m     _raise_bad_response_format(\n\u001b[1;32m    321\u001b[0m         response,\n\u001b[1;32m    322\u001b[0m         \u001b[38;5;124m'\u001b[39m\u001b[38;5;124mResponse must include an \u001b[39m\u001b[38;5;124m\"\u001b[39m\u001b[38;5;124mid\u001b[39m\u001b[38;5;124m\"\u001b[39m\u001b[38;5;124m field or be formatted as an \u001b[39m\u001b[38;5;124m'\u001b[39m\n\u001b[1;32m    323\u001b[0m         \u001b[38;5;124m\"\u001b[39m\u001b[38;5;124m`eth_subscription` response.\u001b[39m\u001b[38;5;124m\"\u001b[39m,\n\u001b[1;32m    324\u001b[0m     )\n\u001b[1;32m    326\u001b[0m \u001b[38;5;28;01mif\u001b[39;00m \u001b[38;5;28mall\u001b[39m(key \u001b[38;5;129;01min\u001b[39;00m response \u001b[38;5;28;01mfor\u001b[39;00m key \u001b[38;5;129;01min\u001b[39;00m {\u001b[38;5;124m\"\u001b[39m\u001b[38;5;124merror\u001b[39m\u001b[38;5;124m\"\u001b[39m, \u001b[38;5;124m\"\u001b[39m\u001b[38;5;124mresult\u001b[39m\u001b[38;5;124m\"\u001b[39m}):\n\u001b[0;32m--> 327\u001b[0m     \u001b[43m_raise_bad_response_format\u001b[49m\u001b[43m(\u001b[49m\n\u001b[1;32m    328\u001b[0m \u001b[43m        \u001b[49m\u001b[43mresponse\u001b[49m\u001b[43m,\u001b[49m\u001b[43m \u001b[49m\u001b[38;5;124;43m'\u001b[39;49m\u001b[38;5;124;43mResponse cannot include both \u001b[39;49m\u001b[38;5;124;43m\"\u001b[39;49m\u001b[38;5;124;43merror\u001b[39;49m\u001b[38;5;124;43m\"\u001b[39;49m\u001b[38;5;124;43m and \u001b[39;49m\u001b[38;5;124;43m\"\u001b[39;49m\u001b[38;5;124;43mresult\u001b[39;49m\u001b[38;5;124;43m\"\u001b[39;49m\u001b[38;5;124;43m.\u001b[39;49m\u001b[38;5;124;43m'\u001b[39;49m\n\u001b[1;32m    329\u001b[0m \u001b[43m    \u001b[49m\u001b[43m)\u001b[49m\n\u001b[1;32m    330\u001b[0m \u001b[38;5;28;01melif\u001b[39;00m (\n\u001b[1;32m    331\u001b[0m     \u001b[38;5;129;01mnot\u001b[39;00m \u001b[38;5;28many\u001b[39m(key \u001b[38;5;129;01min\u001b[39;00m response \u001b[38;5;28;01mfor\u001b[39;00m key \u001b[38;5;129;01min\u001b[39;00m {\u001b[38;5;124m\"\u001b[39m\u001b[38;5;124merror\u001b[39m\u001b[38;5;124m\"\u001b[39m, \u001b[38;5;124m\"\u001b[39m\u001b[38;5;124mresult\u001b[39m\u001b[38;5;124m\"\u001b[39m})\n\u001b[1;32m    332\u001b[0m     \u001b[38;5;129;01mand\u001b[39;00m \u001b[38;5;129;01mnot\u001b[39;00m is_subscription_response\n\u001b[1;32m    333\u001b[0m ):\n\u001b[1;32m    334\u001b[0m     _raise_bad_response_format(\n\u001b[1;32m    335\u001b[0m         response, \u001b[38;5;124m'\u001b[39m\u001b[38;5;124mResponse must include either \u001b[39m\u001b[38;5;124m\"\u001b[39m\u001b[38;5;124merror\u001b[39m\u001b[38;5;124m\"\u001b[39m\u001b[38;5;124m or \u001b[39m\u001b[38;5;124m\"\u001b[39m\u001b[38;5;124mresult\u001b[39m\u001b[38;5;124m\"\u001b[39m\u001b[38;5;124m.\u001b[39m\u001b[38;5;124m'\u001b[39m\n\u001b[1;32m    336\u001b[0m     )\n",
      "File \u001b[0;32m/usr/local/lib/python3.10/dist-packages/web3/_utils/validation.py:262\u001b[0m, in \u001b[0;36m_raise_bad_response_format\u001b[0;34m(response, error)\u001b[0m\n\u001b[1;32m    259\u001b[0m \u001b[38;5;28;01melse\u001b[39;00m:\n\u001b[1;32m    260\u001b[0m     message \u001b[38;5;241m=\u001b[39m \u001b[38;5;124mf\u001b[39m\u001b[38;5;124m\"\u001b[39m\u001b[38;5;132;01m{\u001b[39;00mmessage\u001b[38;5;132;01m}\u001b[39;00m\u001b[38;5;124m \u001b[39m\u001b[38;5;132;01m{\u001b[39;00mraw_response\u001b[38;5;132;01m}\u001b[39;00m\u001b[38;5;124m\"\u001b[39m\n\u001b[0;32m--> 262\u001b[0m \u001b[38;5;28;01mraise\u001b[39;00m BadResponseFormat(message)\n",
      "\u001b[0;31mBadResponseFormat\u001b[0m: The response was in an unexpected format and unable to be parsed. Response cannot include both \"error\" and \"result\". The raw response is: {'id': 2, 'jsonrpc': '2.0', 'result': '0x8cee6b04501420f56c44a99b43c70a791eb3276c0c4ad25aecb695477815a9e9', 'error': {'message': 'VM Exception while processing transaction: revert', 'code': -32000, 'data': {'0x8cee6b04501420f56c44a99b43c70a791eb3276c0c4ad25aecb695477815a9e9': {'error': 'revert', 'program_counter': 1319, 'return': '0x4e487b710000000000000000000000000000000000000000000000000000000000000032'}, 'stack': 'c: VM Exception while processing transaction: revert\\n    at Function.c.fromResults (/usr/local/lib/node_modules/ganache-cli/build/ganache-core.node.cli.js:4:192416)\\n    at w.processBlock (/usr/local/lib/node_modules/ganache-cli/build/ganache-core.node.cli.js:42:50915)\\n    at runMicrotasks (<anonymous>)\\n    at processTicksAndRejections (internal/process/task_queues.js:97:5)', 'name': 'c'}}}"
     ]
    }
   ],
   "source": [
    "from config import config\n",
    "from web3 import Web3, HTTPProvider \n",
    "w3 = Web3(HTTPProvider(config.web3_address))\n",
    "event = \"0x2B49Badd83623e0E2D61A0758e0A4Ae022d06e13\"\n",
    "market = \"0x0C15e95291951cD8F152C269A90FC11539EA8804\"\n",
    "nonce = w3.eth.get_transaction_count(config.admin_address)\n",
    "EventMarketplace_contract = w3.eth.contract(abi=config.EventMarketplace_abi, address=market)\n",
    "buyer = \"0x24B4C5EbdfCBA80A49130dB8c8d140a33d3f9877\"\n",
    "transaction = EventMarketplace_contract.functions.purchaseTicket(0, buyer).build_transaction({\n",
    "    \"chainId\": config.chain_id,\n",
    "    \"gas\": 160000000000000,\n",
    "    \"gasPrice\":  w3.eth.gas_price,\n",
    "    \"nonce\": nonce\n",
    "})\n",
    "\n",
    "signed_txn = w3.eth.account.sign_transaction(transaction, private_key= config.admin_key)\n",
    "\n",
    "tx_hash = w3.eth.send_raw_transaction(signed_txn.raw_transaction)\n",
    "tx_receipt = w3.eth.wait_for_transaction_receipt(tx_hash)\n"
   ]
  },
  {
   "cell_type": "code",
   "execution_count": null,
   "metadata": {},
   "outputs": [],
   "source": [
    "from config import config\n",
    "from web3 import Web3, HTTPProvider \n",
    "w3 = Web3(HTTPProvider(config.web3_address))\n",
    "event = \"0x2B49Badd83623e0E2D61A0758e0A4Ae022d06e13\"\n",
    "market = \"0x0C15e95291951cD8F152C269A90FC11539EA8804\"\n",
    "nonce = w3.eth.get_transaction_count(config.admin_address)\n",
    "EventMarketplace_contract = w3.eth.contract(abi=config.EventMarketplace_abi, address=market)\n",
    "buyer = \"0x24B4C5EbdfCBA80A49130dB8c8d140a33d3f9877\"\n",
    "transaction = EventMarketplace_contract.functions.purchaseTicket(0, buyer).build_transaction({\n",
    "    \"chainId\": config.chain_id,\n",
    "    \"gas\": 160000000000000,\n",
    "    \"gasPrice\":  w3.eth.gas_price,\n",
    "    \"nonce\": nonce\n",
    "})\n",
    "\n",
    "signed_txn = w3.eth.account.sign_transaction(transaction, private_key= config.admin_key)\n",
    "\n",
    "tx_hash = w3.eth.send_raw_transaction(signed_txn.raw_transaction)\n",
    "tx_receipt = w3.eth.wait_for_transaction_receipt(tx_hash)"
   ]
  },
  {
   "cell_type": "code",
   "execution_count": 3,
   "metadata": {},
   "outputs": [
    {
     "name": "stdout",
     "output_type": "stream",
     "text": [
      "0x0C15e95291951cD8F152C269A90FC11539EA8804\n"
     ]
    }
   ],
   "source": [
    "import sqlite3\n",
    "\n",
    "conn = sqlite3.connect(\"./TrustTix.db\")\n",
    "cursor = conn.cursor()\n",
    "eventAddress = \"0x2B49Badd83623e0E2D61A0758e0A4Ae022d06e13\"\n",
    "query = f\"SELECT market FROM event WHERE address = '{eventAddress}'\"\n",
    "cursor.execute(query)\n",
    "re = cursor.fetchone()\n",
    "\n",
    "conn.close()\n",
    "print(re[0])"
   ]
  },
  {
   "cell_type": "code",
   "execution_count": null,
   "metadata": {},
   "outputs": [],
   "source": []
  }
 ],
 "metadata": {
  "kernelspec": {
   "display_name": "Python 3",
   "language": "python",
   "name": "python3"
  },
  "language_info": {
   "codemirror_mode": {
    "name": "ipython",
    "version": 3
   },
   "file_extension": ".py",
   "mimetype": "text/x-python",
   "name": "python",
   "nbconvert_exporter": "python",
   "pygments_lexer": "ipython3",
   "version": "3.10.12"
  }
 },
 "nbformat": 4,
 "nbformat_minor": 2
}
