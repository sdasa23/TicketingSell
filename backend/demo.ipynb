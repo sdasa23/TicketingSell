{
 "cells": [
  {
   "cell_type": "code",
   "execution_count": 84,
   "metadata": {},
   "outputs": [],
   "source": [
    "from config import config\n",
    "from web3 import Web3, HTTPProvider \n",
    "w3 = Web3(HTTPProvider(config.web3_address))\n",
    "from schemas.market import firstMarketPurchaseResquest\n",
    "\n",
    "organizer = \"0x364265FEcd8FBAEcFe1233DB157A083E561dC6BA\"\n",
    "priv_key = \"0x0d14f32c8e3ed7417fb7db52ebab63572bf7cfcd557351d4ccf19a05edeecfa5\"\n",
    "\n",
    "festName = \"Jim`s Party\"\n",
    "festSymbol = \"JP\"\n",
    "maxTicketLevel = 3\n",
    "ticketPriceList = [0,0,0]\n",
    "ticketSupplyList = [10,20,30]\n",
    "\n",
    "EventNTF_contract = w3.eth.contract(abi=config.EventNFT_abi, bytecode=config.EventNFT_bytecode)\n",
    "nonce = w3.eth.get_transaction_count(organizer)\n",
    "\n",
    "transaction = EventNTF_contract.constructor(festName, festSymbol, maxTicketLevel, \n",
    "                                                ticketPriceList, ticketSupplyList, organizer).build_transaction({\n",
    "    \"chainId\": config.chain_id,\n",
    "    \"gas\": 160000000000000,\n",
    "    \"gasPrice\":  w3.eth.gas_price,\n",
    "    \"nonce\": nonce,\n",
    "    \"from\": organizer\n",
    "})\n",
    "\n",
    "signed_txn = w3.eth.account.sign_transaction(transaction, private_key= priv_key)\n",
    "\n",
    "tx_hash = w3.eth.send_raw_transaction(signed_txn.raw_transaction)\n",
    "tx_receipt = w3.eth.wait_for_transaction_receipt(tx_hash)\n",
    "event_address = tx_receipt[\"contractAddress\"]"
   ]
  },
  {
   "cell_type": "code",
   "execution_count": 85,
   "metadata": {},
   "outputs": [
    {
     "data": {
      "text/plain": [
       "'0x4d55FfA69C9E5Aab34C5C2C2f5CBbb991bd5a793'"
      ]
     },
     "execution_count": 85,
     "metadata": {},
     "output_type": "execute_result"
    }
   ],
   "source": [
    "event_address"
   ]
  },
  {
   "cell_type": "code",
   "execution_count": 86,
   "metadata": {},
   "outputs": [
    {
     "data": {
      "text/plain": [
       "0"
      ]
     },
     "execution_count": 86,
     "metadata": {},
     "output_type": "execute_result"
    }
   ],
   "source": [
    "EventNTF_contract = w3.eth.contract(address = event_address, abi = config.EventNFT_abi)\n",
    "EventNTF_contract.functions.ticketCounts().call()"
   ]
  },
  {
   "cell_type": "code",
   "execution_count": 113,
   "metadata": {},
   "outputs": [
    {
     "data": {
      "text/plain": [
       "'0xC459cc3AC9f8462Be2EF00aAD02fAc7af2e97b14'"
      ]
     },
     "execution_count": 113,
     "metadata": {},
     "output_type": "execute_result"
    }
   ],
   "source": [
    "w3 = Web3(HTTPProvider(config.web3_address))\n",
    "organizer = \"0x364265FEcd8FBAEcFe1233DB157A083E561dC6BA\"\n",
    "event = \"0xa303ECc687f70CDe44803dd9610Ec7b551ED79FF\"\n",
    "nonce = w3.eth.get_transaction_count(organizer)\n",
    "EventNTF_contract = w3.eth.contract(abi=config.EventNFT_abi, address=event)\n",
    "EventNTF_contract.functions.ownerOf(14).call()\n"
   ]
  },
  {
   "cell_type": "code",
   "execution_count": 112,
   "metadata": {},
   "outputs": [
    {
     "data": {
      "text/plain": [
       "'0x0000000000000000000000000000000000000000'"
      ]
     },
     "execution_count": 112,
     "metadata": {},
     "output_type": "execute_result"
    }
   ],
   "source": [
    "EventNTF_contract.functions.getApproved(14).call()"
   ]
  },
  {
   "cell_type": "code",
   "execution_count": 111,
   "metadata": {},
   "outputs": [
    {
     "data": {
      "text/plain": [
       "[5, 0, 1, False]"
      ]
     },
     "execution_count": 111,
     "metadata": {},
     "output_type": "execute_result"
    }
   ],
   "source": [
    "\n",
    "EventNTF_contract.functions.getTicketDetails(11).call()"
   ]
  },
  {
   "cell_type": "code",
   "execution_count": 34,
   "metadata": {},
   "outputs": [
    {
     "data": {
      "text/plain": [
       "[('0x24B4C5EbdfCBA80A49130dB8c8d140a33d3f9877',)]"
      ]
     },
     "execution_count": 34,
     "metadata": {},
     "output_type": "execute_result"
    }
   ],
   "source": [
    "import sqlite3\n",
    "\n",
    "# 连接到数据库（如果数据库不存在，则会自动创建）\n",
    "conn = sqlite3.connect('TrustTix.db')\n",
    "\n",
    "# 创建一个游标对象\n",
    "cursor = conn.cursor()\n",
    "address = \"0x24B4C5EbdfCBA80A49130dB8c8d140a33d3f9877\"\n",
    "# 查询数据\n",
    "query = f\"SELECT * FROM user WHERE address = '{address}'\" \n",
    "query = f\"SELECT * FROM user \" \n",
    "cursor.execute(query)\n",
    "re = cursor.fetchall()\n",
    "re"
   ]
  },
  {
   "cell_type": "code",
   "execution_count": 37,
   "metadata": {},
   "outputs": [
    {
     "data": {
      "text/plain": [
       "[(1,\n",
       "  'Jim`s Party',\n",
       "  'JP',\n",
       "  '0x3d43214ED6C76FC29E3e871E438542633e83C61A',\n",
       "  '0x32Fb8355BC0f59D6D49a486b54940f5313E3408d',\n",
       "  '0x364265FEcd8FBAEcFe1233DB157A083E561dC6BA')]"
      ]
     },
     "execution_count": 37,
     "metadata": {},
     "output_type": "execute_result"
    }
   ],
   "source": [
    "query = f\"select * from event\"\n",
    "cursor.execute(query)\n",
    "cursor.fetchall()"
   ]
  },
  {
   "cell_type": "code",
   "execution_count": null,
   "metadata": {},
   "outputs": [],
   "source": []
  }
 ],
 "metadata": {
  "kernelspec": {
   "display_name": "Python 3",
   "language": "python",
   "name": "python3"
  },
  "language_info": {
   "codemirror_mode": {
    "name": "ipython",
    "version": 3
   },
   "file_extension": ".py",
   "mimetype": "text/x-python",
   "name": "python",
   "nbconvert_exporter": "python",
   "pygments_lexer": "ipython3",
   "version": "3.10.12"
  }
 },
 "nbformat": 4,
 "nbformat_minor": 2
}
