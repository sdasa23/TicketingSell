{
 "cells": [
  {
   "cell_type": "code",
   "execution_count": 1,
   "metadata": {},
   "outputs": [
    {
     "name": "stdout",
     "output_type": "stream",
     "text": [
      "AttributeDict({'number': 3, 'hash': HexBytes('0xe49c4e2168d939804558c5e47d152d8b6a609868e48e7bc81ac715df4324283e'), 'parentHash': HexBytes('0x042d719cb2eaee95719f03a93f3bb2a9d772ab298c204522d1e13434538ec105'), 'mixHash': HexBytes('0x0000000000000000000000000000000000000000000000000000000000000000'), 'nonce': HexBytes('0x0000000000000000'), 'sha3Uncles': HexBytes('0x1dcc4de8dec75d7aab85b567b6ccd41ad312451b948a7413f0a142fd40d49347'), 'logsBloom': HexBytes('0x00000000000000000000000000000000000000000000000000000000000000000000000000000000000000000000000000000000000000000000000000000000000000000000000000000000000000000000000000000000000000000000000000000000000000000000000000000000000000000000000000000000000000000000000000000000000000000000000000000000000000000000000000000000000000000000000000000000000000000000000000000000000000000000000000000000000000000000000000000000000000000000000000000000000000000000000000000000000000000000000000000000000000000000000000000000'), 'transactionsRoot': HexBytes('0x8e555ebabfc199edd60d1684469dcf1f3c32ed1dc7628eb51c88eff48822b54d'), 'stateRoot': HexBytes('0x1afda0753477add070abc3364afb181d691ebf1592050690bd818b3e8682527a'), 'receiptsRoot': HexBytes('0xfe577c58c2c05fe225af040869cad25a2cefb5425b82e6f25ebd6e1785a5dbf0'), 'miner': '0x0000000000000000000000000000000000000000', 'difficulty': 0, 'totalDifficulty': 0, 'extraData': HexBytes('0x'), 'size': 1000, 'gasLimit': 160000000000000000, 'gasUsed': 698612, 'timestamp': 1742225989, 'transactions': [HexBytes('0x504e49ca901e8812fe8ccc2f416c8ca82f622ea4dbfd58e89b758d7c0f52a54e')], 'uncles': []})\n"
     ]
    }
   ],
   "source": [
    "from web3 import HTTPProvider, Web3\n",
    "import json\n",
    "import time\n",
    "# connect to Ganache test network\n",
    "w3 = Web3(HTTPProvider('http://127.0.0.1:8545'))\n",
    "block = w3.eth.get_block('latest')\n",
    "\n",
    "print(block)"
   ]
  },
  {
   "cell_type": "code",
   "execution_count": 11,
   "metadata": {},
   "outputs": [
    {
     "data": {
      "text/plain": [
       "3"
      ]
     },
     "execution_count": 11,
     "metadata": {},
     "output_type": "execute_result"
    }
   ],
   "source": [
    "web3_address = 'http://127.0.0.1:8545'\n",
    "w3 = Web3(HTTPProvider(web3_address))\n",
    "with open(\"compiled_code.json\", \"r\") as file:\n",
    "    compiled_sol = json.load(file)\n",
    "FestivalNFT_bytecode = compiled_sol[\"contracts\"][\"FestivalNFT.sol\"][\"FestivalNFT\"][\"evm\"][\"bytecode\"][\"object\"]\n",
    "FestivalNFT_abi = compiled_sol[\"contracts\"][\"FestivalNFT.sol\"][\"FestivalNFT\"][\"abi\"]\n",
    "lower_case_address = '0xa303ecc687f70cde44803dd9610ec7b551ed79ff'\n",
    "\n",
    "checksum_address = Web3.to_checksum_address(lower_case_address)\n",
    "token_contract = w3.eth.contract(address= checksum_address,abi=FestivalNFT_abi)\n",
    "level = token_contract.functions.getMaxTicketLevel().call()\n",
    "level"
   ]
  },
  {
   "cell_type": "code",
   "execution_count": null,
   "metadata": {},
   "outputs": [
    {
     "ename": "ABIFunctionNotFound",
     "evalue": "(\"The function 'getMaxTicketLevel' was not found in this \", \"contract's abi.\")",
     "output_type": "error",
     "traceback": [
      "\u001b[0;31m---------------------------------------------------------------------------\u001b[0m",
      "\u001b[0;31mABIFunctionNotFound\u001b[0m                       Traceback (most recent call last)",
      "Cell \u001b[0;32mIn[9], line 9\u001b[0m\n\u001b[1;32m      7\u001b[0m FestToken_abi \u001b[38;5;241m=\u001b[39m compiled_sol[\u001b[38;5;124m\"\u001b[39m\u001b[38;5;124mcontracts\u001b[39m\u001b[38;5;124m\"\u001b[39m][\u001b[38;5;124m\"\u001b[39m\u001b[38;5;124mFestToken.sol\u001b[39m\u001b[38;5;124m\"\u001b[39m][\u001b[38;5;124m\"\u001b[39m\u001b[38;5;124mFestToken\u001b[39m\u001b[38;5;124m\"\u001b[39m][\u001b[38;5;124m\"\u001b[39m\u001b[38;5;124mabi\u001b[39m\u001b[38;5;124m\"\u001b[39m]\n\u001b[1;32m      8\u001b[0m token_contract \u001b[38;5;241m=\u001b[39m w3\u001b[38;5;241m.\u001b[39meth\u001b[38;5;241m.\u001b[39mcontract(address\u001b[38;5;241m=\u001b[39m \u001b[38;5;124m\"\u001b[39m\u001b[38;5;124m0x21107f38881CC98802EA490d967E3469F8973Dc0\u001b[39m\u001b[38;5;124m\"\u001b[39m,abi\u001b[38;5;241m=\u001b[39mFestToken_abi)\n\u001b[0;32m----> 9\u001b[0m level \u001b[38;5;241m=\u001b[39m \u001b[43mtoken_contract\u001b[49m\u001b[38;5;241;43m.\u001b[39;49m\u001b[43mfunctions\u001b[49m\u001b[38;5;241;43m.\u001b[39;49m\u001b[43mgetMaxTicketLevel\u001b[49m()\u001b[38;5;241m.\u001b[39mcall()\n",
      "File \u001b[0;32m/usr/local/lib/python3.10/dist-packages/web3/contract/base_contract.py:965\u001b[0m, in \u001b[0;36mBaseContractFunctions.__getattr__\u001b[0;34m(self, function_name)\u001b[0m\n\u001b[1;32m    957\u001b[0m     \u001b[38;5;28;01mraise\u001b[39;00m NoABIFunctionsFound(\n\u001b[1;32m    958\u001b[0m         \u001b[38;5;124m\"\u001b[39m\u001b[38;5;124mThe abi for this contract contains no function definitions. \u001b[39m\u001b[38;5;124m\"\u001b[39m,\n\u001b[1;32m    959\u001b[0m         \u001b[38;5;124m\"\u001b[39m\u001b[38;5;124mAre you sure you provided the correct contract abi?\u001b[39m\u001b[38;5;124m\"\u001b[39m,\n\u001b[1;32m    960\u001b[0m     )\n\u001b[1;32m    961\u001b[0m \u001b[38;5;28;01melif\u001b[39;00m get_name_from_abi_element_identifier(function_name) \u001b[38;5;129;01mnot\u001b[39;00m \u001b[38;5;129;01min\u001b[39;00m [\n\u001b[1;32m    962\u001b[0m     get_name_from_abi_element_identifier(function[\u001b[38;5;124m\"\u001b[39m\u001b[38;5;124mname\u001b[39m\u001b[38;5;124m\"\u001b[39m])\n\u001b[1;32m    963\u001b[0m     \u001b[38;5;28;01mfor\u001b[39;00m function \u001b[38;5;129;01min\u001b[39;00m \u001b[38;5;28mself\u001b[39m\u001b[38;5;241m.\u001b[39m_functions\n\u001b[1;32m    964\u001b[0m ]:\n\u001b[0;32m--> 965\u001b[0m     \u001b[38;5;28;01mraise\u001b[39;00m ABIFunctionNotFound(\n\u001b[1;32m    966\u001b[0m         \u001b[38;5;124mf\u001b[39m\u001b[38;5;124m\"\u001b[39m\u001b[38;5;124mThe function \u001b[39m\u001b[38;5;124m'\u001b[39m\u001b[38;5;132;01m{\u001b[39;00mfunction_name\u001b[38;5;132;01m}\u001b[39;00m\u001b[38;5;124m'\u001b[39m\u001b[38;5;124m was not found in this \u001b[39m\u001b[38;5;124m\"\u001b[39m,\n\u001b[1;32m    967\u001b[0m         \u001b[38;5;124m\"\u001b[39m\u001b[38;5;124mcontract\u001b[39m\u001b[38;5;124m'\u001b[39m\u001b[38;5;124ms abi.\u001b[39m\u001b[38;5;124m\"\u001b[39m,\n\u001b[1;32m    968\u001b[0m     )\n\u001b[1;32m    970\u001b[0m \u001b[38;5;28;01mif\u001b[39;00m \u001b[38;5;124m\"\u001b[39m\u001b[38;5;124m(\u001b[39m\u001b[38;5;124m\"\u001b[39m \u001b[38;5;129;01mnot\u001b[39;00m \u001b[38;5;129;01min\u001b[39;00m function_name:\n\u001b[1;32m    971\u001b[0m     function_name \u001b[38;5;241m=\u001b[39m _get_any_abi_signature_with_name(\n\u001b[1;32m    972\u001b[0m         function_name, \u001b[38;5;28mself\u001b[39m\u001b[38;5;241m.\u001b[39m_functions\n\u001b[1;32m    973\u001b[0m     )\n",
      "\u001b[0;31mABIFunctionNotFound\u001b[0m: (\"The function 'getMaxTicketLevel' was not found in this \", \"contract's abi.\")"
     ]
    }
   ],
   "source": [
    "web3_address = 'http://127.0.0.1:8545'\n",
    "w3 = Web3(HTTPProvider(web3_address))\n",
    "with open(\"compiled_code.json\", \"r\") as file:\n",
    "    compiled_sol = json.load(file)\n",
    "\n",
    "FestToken_bytecode = compiled_sol[\"contracts\"][\"FestToken.sol\"][\"FestToken\"][\"evm\"][\"bytecode\"][\"object\"]\n",
    "FestToken_abi = compiled_sol[\"contracts\"][\"FestToken.sol\"][\"FestToken\"][\"abi\"]\n",
    "token_contract = w3.eth.contract(address= \"0x21107f38881CC98802EA490d967E3469F8973Dc0\",abi=FestToken_abi)\n"
   ]
  },
  {
   "cell_type": "code",
   "execution_count": 20,
   "metadata": {},
   "outputs": [],
   "source": [
    "web3_address = 'http://127.0.0.1:8545'\n",
    "publisher_account_hash = '0xC459cc3AC9f8462Be2EF00aAD02fAc7af2e97b14'\n",
    "userKey = '0xda09f8cdec20b7c8334ce05b27e6797bef01c1ad79c59381666467552c5012e3'\n",
    "chain_id = 1337\n",
    "nonce = w3.eth.get_transaction_count(publisher_account_hash)\n",
    "user_address = \"0x35371F32C6e5787a2FDBbbd28DA42F0F03120b83\"\n",
    "tx = token_contract.functions.transfer(user_address, 100).build_transaction({\n",
    "    \"chainId\": chain_id,\n",
    "    \"gas\": 200000,\n",
    "    \"gasPrice\":  w3.eth.gas_price,\n",
    "    \"nonce\": nonce\n",
    "})\n",
    "\n"
   ]
  },
  {
   "cell_type": "code",
   "execution_count": 21,
   "metadata": {},
   "outputs": [],
   "source": [
    "signed_txn = w3.eth.account.sign_transaction(tx, private_key=userKey)\n",
    "\n",
    "tx_hash = w3.eth.send_raw_transaction(signed_txn.raw_transaction)\n",
    "tx_receipt = w3.eth.wait_for_transaction_receipt(tx_hash)"
   ]
  },
  {
   "cell_type": "code",
   "execution_count": 32,
   "metadata": {},
   "outputs": [
    {
     "data": {
      "text/plain": [
       "100"
      ]
     },
     "execution_count": 32,
     "metadata": {},
     "output_type": "execute_result"
    }
   ],
   "source": [
    "token_contract.functions.balanceOf(user_address).call()"
   ]
  },
  {
   "cell_type": "code",
   "execution_count": 6,
   "metadata": {},
   "outputs": [],
   "source": [
    "\n",
    "\n",
    "import json\n",
    "\n",
    "with open(\"compiled_code.json\", \"w\") as file:\n",
    "    json.dump(compiled_sol, file)\n",
    "\n",
    "bytecode = compiled_sol[\"contracts\"][\"FestToken.sol\"][\"FestToken\"][\"evm\"][\n",
    "    \"bytecode\"\n",
    "][\"object\"]\n",
    "# get abi\n",
    "abi = compiled_sol[\"contracts\"][\"FestToken.sol\"][\"FestToken\"][\"abi\"]"
   ]
  },
  {
   "cell_type": "code",
   "execution_count": 7,
   "metadata": {},
   "outputs": [],
   "source": [
    "SimpleStorage = w3.eth.contract(abi=abi, bytecode=bytecode)\n",
    "# nonce = w3.eth.getTransactionCount(my_address)\n",
    "nonce = w3.eth.get_transaction_count(userAcc)\n",
    "chain_id = 1337\n",
    "transaction = SimpleStorage.constructor().build_transaction(\n",
    "    {\n",
    "        \"chainId\": chain_id,\n",
    "        \"gasPrice\": w3.eth.gas_price,\n",
    "        \"from\": userAcc,\n",
    "        \"nonce\": nonce,\n",
    "        # \"gas\": 20000000\n",
    "    }\n",
    ")\n"
   ]
  },
  {
   "cell_type": "code",
   "execution_count": 8,
   "metadata": {},
   "outputs": [],
   "source": [
    "signed_txn = w3.eth.account.sign_transaction(transaction, private_key=userKey)\n",
    "\n",
    "tx_hash = w3.eth.send_raw_transaction(signed_txn.raw_transaction)\n",
    "tx_receipt = w3.eth.wait_for_transaction_receipt(tx_hash)"
   ]
  },
  {
   "cell_type": "code",
   "execution_count": 9,
   "metadata": {},
   "outputs": [],
   "source": [
    "fest_token_address  = tx_receipt[\"contractAddress\"]"
   ]
  },
  {
   "cell_type": "code",
   "execution_count": 32,
   "metadata": {},
   "outputs": [],
   "source": [
    "with open(\"compiled_code.json\", \"w\") as file:\n",
    "    json.dump(compiled_sol, file)\n",
    "\n",
    "bytecode = compiled_sol[\"contracts\"][\"FestivalNFT.sol\"][\"FestivalNFT\"][\"evm\"][\n",
    "    \"bytecode\"\n",
    "][\"object\"]\n",
    "# get abi\n",
    "abi = compiled_sol[\"contracts\"][\"FestivalNFT.sol\"][\"FestivalNFT\"][\"abi\"]\n",
    "\n"
   ]
  },
  {
   "cell_type": "code",
   "execution_count": 33,
   "metadata": {},
   "outputs": [],
   "source": [
    "SimpleStorage = w3.eth.contract(abi=abi, bytecode=bytecode)\n",
    "# nonce = w3.eth.getTransactionCount(my_address)\n",
    "nonce = w3.eth.get_transaction_count(userAcc)\n",
    "chain_id = 1337\n",
    "festName = \"Happy Sunday\"\n",
    "FestSymbol = \"HS\"\n",
    "maxTicketLevel = 2\n",
    "ticketPriceList = [10,20,30]\n",
    "ticketSupplyList = [100,20,10]\n",
    "organiser = userAcc\n",
    "transaction = SimpleStorage.constructor(festName, FestSymbol, maxTicketLevel, ticketPriceList, ticketSupplyList, organiser).build_transaction(\n",
    "    {\n",
    "        \"chainId\": chain_id,\n",
    "        \"gasPrice\": w3.eth.gas_price,\n",
    "        \"from\": userAcc,\n",
    "        \"nonce\": nonce,\n",
    "        \"gas\": 160000000000000\n",
    "    }\n",
    ")\n"
   ]
  },
  {
   "cell_type": "code",
   "execution_count": 34,
   "metadata": {},
   "outputs": [],
   "source": [
    "signed_txn = w3.eth.account.sign_transaction(transaction, private_key=userKey)\n",
    "\n",
    "tx_hash = w3.eth.send_raw_transaction(signed_txn.raw_transaction)\n",
    "tx_receipt = w3.eth.wait_for_transaction_receipt(tx_hash)"
   ]
  },
  {
   "cell_type": "code",
   "execution_count": 35,
   "metadata": {},
   "outputs": [],
   "source": [
    "festival_nft_address = tx_receipt[\"contractAddress\"]"
   ]
  },
  {
   "cell_type": "code",
   "execution_count": 36,
   "metadata": {},
   "outputs": [],
   "source": [
    "with open(\"compiled_code.json\", \"w\") as file:\n",
    "    json.dump(compiled_sol, file)\n",
    "\n",
    "bytecode = compiled_sol[\"contracts\"][\"FestivalMarketplace.sol\"][\"FestivalMarketplace\"][\"evm\"][\n",
    "    \"bytecode\"\n",
    "][\"object\"]\n",
    "# get abi\n",
    "abi = compiled_sol[\"contracts\"][\"FestivalMarketplace.sol\"][\"FestivalMarketplace\"][\"abi\"]"
   ]
  },
  {
   "cell_type": "code",
   "execution_count": 37,
   "metadata": {},
   "outputs": [],
   "source": [
    "SimpleStorage = w3.eth.contract(abi=abi, bytecode=bytecode)\n",
    "# nonce = w3.eth.getTransactionCount(my_address)\n",
    "nonce = w3.eth.get_transaction_count(userAcc)\n",
    "chain_id = 1337\n",
    "# gas_estimate = SimpleStorage.constructor().estimate_gas({\n",
    "#     \"from\": userAcc,\n",
    "# })\n",
    "\n",
    "transaction = SimpleStorage.constructor(fest_token_address, festival_nft_address).build_transaction(\n",
    "    {\n",
    "        \"chainId\": chain_id,\n",
    "        \"gasPrice\": w3.eth.gas_price,\n",
    "        \"from\": userAcc,\n",
    "        \"nonce\": nonce,\n",
    "        \"gas\": 160000000000000\n",
    "    }\n",
    ")\n"
   ]
  },
  {
   "cell_type": "code",
   "execution_count": 38,
   "metadata": {},
   "outputs": [],
   "source": [
    "signed_txn = w3.eth.account.sign_transaction(transaction, private_key=userKey)\n",
    "\n",
    "tx_hash = w3.eth.send_raw_transaction(signed_txn.raw_transaction)\n",
    "tx_receipt = w3.eth.wait_for_transaction_receipt(tx_hash)"
   ]
  },
  {
   "cell_type": "code",
   "execution_count": 39,
   "metadata": {},
   "outputs": [],
   "source": [
    "with open(\"compiled_code.json\", \"w\") as file:\n",
    "    json.dump(compiled_sol, file)\n",
    "\n",
    "bytecode = compiled_sol[\"contracts\"][\"FestivalNFT.sol\"][\"FestivalNFT\"][\"evm\"][\n",
    "    \"bytecode\"\n",
    "][\"object\"]\n",
    "# get abi\n",
    "abi = compiled_sol[\"contracts\"][\"FestivalNFT.sol\"][\"FestivalNFT\"][\"abi\"]\n",
    "\n",
    "SimpleStorage = w3.eth.contract(abi=abi, bytecode=bytecode)\n",
    "\n",
    "nonce = w3.eth.get_transaction_count(userAcc)\n",
    "chain_id = 1337\n",
    "numOfTickets = 100\n",
    "ticketLevel = 0\n",
    "operator = userAcc\n",
    "transaction = SimpleStorage.functions.bulkMintTickets(numOfTickets, ticketLevel, operator).build_transaction(\n",
    "    {\n",
    "        \"chainId\": chain_id,\n",
    "        \"gasPrice\": w3.eth.gas_price,\n",
    "        \"from\": userAcc,\n",
    "        \"nonce\": nonce,\n",
    "        \"gas\": 160000000000000,\n",
    "        \"to\" : festival_nft_address\n",
    "    }\n",
    ")\n"
   ]
  },
  {
   "cell_type": "code",
   "execution_count": 40,
   "metadata": {},
   "outputs": [],
   "source": [
    "\n",
    "signed_txn = w3.eth.account.sign_transaction(transaction, private_key=userKey)\n",
    "\n",
    "tx_hash = w3.eth.send_raw_transaction(signed_txn.raw_transaction)\n",
    "tx_receipt = w3.eth.wait_for_transaction_receipt(tx_hash)"
   ]
  },
  {
   "cell_type": "code",
   "execution_count": 45,
   "metadata": {},
   "outputs": [],
   "source": [
    "nonce = w3.eth.get_transaction_count(userAcc)\n",
    "chain_id = 1337\n",
    "buyer = '0x364265FEcd8FBAEcFe1233DB157A083E561dC6BA'\n",
    "ticketLevel = 0\n",
    "operator = userAcc\n",
    "transaction = SimpleStorage.functions.transferTicket(buyer, ticketLevel).build_transaction(\n",
    "    {\n",
    "        \"chainId\": chain_id,\n",
    "        \"gasPrice\": w3.eth.gas_price,\n",
    "        \"from\": userAcc,\n",
    "        \"nonce\": nonce,\n",
    "        \"gas\": 160000000000000,\n",
    "        \"to\" : festival_nft_address\n",
    "    }\n",
    ")\n",
    "\n",
    "signed_txn = w3.eth.account.sign_transaction(transaction, private_key=userKey)\n",
    "\n",
    "tx_hash = w3.eth.send_raw_transaction(signed_txn.raw_transaction)\n",
    "tx_receipt = w3.eth.wait_for_transaction_receipt(tx_hash)"
   ]
  },
  {
   "cell_type": "code",
   "execution_count": null,
   "metadata": {},
   "outputs": [],
   "source": []
  }
 ],
 "metadata": {
  "kernelspec": {
   "display_name": "Python 3",
   "language": "python",
   "name": "python3"
  },
  "language_info": {
   "codemirror_mode": {
    "name": "ipython",
    "version": 3
   },
   "file_extension": ".py",
   "mimetype": "text/x-python",
   "name": "python",
   "nbconvert_exporter": "python",
   "pygments_lexer": "ipython3",
   "version": "3.10.12"
  }
 },
 "nbformat": 4,
 "nbformat_minor": 2
}
