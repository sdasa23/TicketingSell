{
 "cells": [
  {
   "cell_type": "code",
   "execution_count": 10,
   "metadata": {},
   "outputs": [
    {
     "name": "stdout",
     "output_type": "stream",
     "text": [
      "AttributeDict({'number': 5, 'hash': HexBytes('0x9e5a0672cac284f0d4b6c4de83ad003ffb18eb23e5bcdb99997b7b29bbbe9d33'), 'parentHash': HexBytes('0x63f9811f3e5134347169465f30f919896c0703f284b52e785ed5a24ee69ca2eb'), 'mixHash': HexBytes('0x0000000000000000000000000000000000000000000000000000000000000000'), 'nonce': HexBytes('0x0000000000000000'), 'sha3Uncles': HexBytes('0x1dcc4de8dec75d7aab85b567b6ccd41ad312451b948a7413f0a142fd40d49347'), 'logsBloom': HexBytes('0x00000000000000000000000000000000000000000000000000000000000000000000000000000000001000000000000000000000000000000000000000000000000000000000000000000008000000000000000000000000000000000000000000000000020000000000000040000800200000000000000000000010000000000000000000000000000000000000000000000000000000000000000000000000000000000000000000000000000000000000000000000000000000000000000000000002000000000000000000400000000000000000000000000001000020000000000000000010000000000000000000000000000000000000000000000000'), 'transactionsRoot': HexBytes('0x263895c12a1e3e86f263a7a9ee98084ff32f2dc89032d5e614eb3910754dba91'), 'stateRoot': HexBytes('0xd0b26022a05c2874a0a464e30f72b638003c0e61dd8d1817962890adce796691'), 'receiptsRoot': HexBytes('0x224c7c518e664eac6cf4e5854af6bd7f76238c9be2830fd0b4684a55783b8e4f'), 'miner': '0x0000000000000000000000000000000000000000', 'difficulty': 0, 'totalDifficulty': 0, 'extraData': HexBytes('0x'), 'size': 1000, 'gasLimit': 160000000000000000, 'gasUsed': 1581335, 'timestamp': 1742124958, 'transactions': [HexBytes('0x5c700dfee819b95efbf5e99a29b84b7f9284fd821cc29dc2be1b0f753fcd3aba')], 'uncles': []})\n"
     ]
    }
   ],
   "source": [
    "from web3 import HTTPProvider, Web3\n",
    "import json\n",
    "import time\n",
    "# connect to Ganache test network\n",
    "w3 = Web3(HTTPProvider('http://127.0.0.1:8545'))\n",
    "block = w3.eth.get_block('latest')\n",
    "\n",
    "print(block)"
   ]
  },
  {
   "cell_type": "code",
   "execution_count": 14,
   "metadata": {},
   "outputs": [],
   "source": [
    "web3_address = 'http://127.0.0.1:8545'\n",
    "w3 = Web3(HTTPProvider(web3_address))\n",
    "with open(\"compiled_code.json\", \"r\") as file:\n",
    "    compiled_sol = json.load(file)\n",
    "\n",
    "FestToken_bytecode = compiled_sol[\"contracts\"][\"FestToken.sol\"][\"FestToken\"][\"evm\"][\"bytecode\"][\"object\"]\n",
    "FestToken_abi = compiled_sol[\"contracts\"][\"FestToken.sol\"][\"FestToken\"][\"abi\"]\n",
    "token_contract = w3.eth.contract(abi=FestToken_abi, bytecode=FestToken_bytecode)"
   ]
  },
  {
   "cell_type": "code",
   "execution_count": null,
   "metadata": {},
   "outputs": [
    {
     "ename": "Web3ValueError",
     "evalue": "When using `ContractFunction.build_transaction` from a contract factory you must provide a `to` address with the transaction",
     "output_type": "error",
     "traceback": [
      "\u001b[0;31m---------------------------------------------------------------------------\u001b[0m",
      "\u001b[0;31mWeb3ValueError\u001b[0m                            Traceback (most recent call last)",
      "Cell \u001b[0;32mIn[15], line 7\u001b[0m\n\u001b[1;32m      5\u001b[0m nonce \u001b[38;5;241m=\u001b[39m w3\u001b[38;5;241m.\u001b[39meth\u001b[38;5;241m.\u001b[39mget_transaction_count(publisher_account_hash)\n\u001b[1;32m      6\u001b[0m user_address \u001b[38;5;241m=\u001b[39m \u001b[38;5;124m\"\u001b[39m\u001b[38;5;124m0x35371F32C6e5787a2FDBbbd28DA42F0F03120b83\u001b[39m\u001b[38;5;124m\"\u001b[39m\n\u001b[0;32m----> 7\u001b[0m tx \u001b[38;5;241m=\u001b[39m \u001b[43mtoken_contract\u001b[49m\u001b[38;5;241;43m.\u001b[39;49m\u001b[43mfunctions\u001b[49m\u001b[38;5;241;43m.\u001b[39;49m\u001b[43mtransfer\u001b[49m\u001b[43m(\u001b[49m\u001b[43muser_address\u001b[49m\u001b[43m,\u001b[49m\u001b[43m \u001b[49m\u001b[38;5;241;43m100\u001b[39;49m\u001b[43m)\u001b[49m\u001b[38;5;241;43m.\u001b[39;49m\u001b[43mbuild_transaction\u001b[49m\u001b[43m(\u001b[49m\u001b[43m{\u001b[49m\n\u001b[1;32m      8\u001b[0m \u001b[43m    \u001b[49m\u001b[38;5;124;43m\"\u001b[39;49m\u001b[38;5;124;43mchainId\u001b[39;49m\u001b[38;5;124;43m\"\u001b[39;49m\u001b[43m:\u001b[49m\u001b[43m \u001b[49m\u001b[43mchain_id\u001b[49m\u001b[43m,\u001b[49m\n\u001b[1;32m      9\u001b[0m \u001b[43m    \u001b[49m\u001b[38;5;124;43m\"\u001b[39;49m\u001b[38;5;124;43mgas\u001b[39;49m\u001b[38;5;124;43m\"\u001b[39;49m\u001b[43m:\u001b[49m\u001b[43m \u001b[49m\u001b[38;5;241;43m200000\u001b[39;49m\u001b[43m,\u001b[49m\n\u001b[1;32m     10\u001b[0m \u001b[43m    \u001b[49m\u001b[38;5;124;43m\"\u001b[39;49m\u001b[38;5;124;43mgasPrice\u001b[39;49m\u001b[38;5;124;43m\"\u001b[39;49m\u001b[43m:\u001b[49m\u001b[43m  \u001b[49m\u001b[43mw3\u001b[49m\u001b[38;5;241;43m.\u001b[39;49m\u001b[43meth\u001b[49m\u001b[38;5;241;43m.\u001b[39;49m\u001b[43mgas_price\u001b[49m\u001b[43m,\u001b[49m\n\u001b[1;32m     11\u001b[0m \u001b[43m    \u001b[49m\u001b[38;5;124;43m\"\u001b[39;49m\u001b[38;5;124;43mnonce\u001b[39;49m\u001b[38;5;124;43m\"\u001b[39;49m\u001b[43m:\u001b[49m\u001b[43m \u001b[49m\u001b[43mnonce\u001b[49m\u001b[43m,\u001b[49m\n\u001b[1;32m     12\u001b[0m \u001b[43m}\u001b[49m\u001b[43m)\u001b[49m\n",
      "File \u001b[0;32m/usr/local/lib/python3.10/dist-packages/web3/contract/contract.py:344\u001b[0m, in \u001b[0;36mContractFunction.build_transaction\u001b[0;34m(self, transaction)\u001b[0m\n\u001b[1;32m    343\u001b[0m \u001b[38;5;28;01mdef\u001b[39;00m \u001b[38;5;21mbuild_transaction\u001b[39m(\u001b[38;5;28mself\u001b[39m, transaction: Optional[TxParams] \u001b[38;5;241m=\u001b[39m \u001b[38;5;28;01mNone\u001b[39;00m) \u001b[38;5;241m-\u001b[39m\u001b[38;5;241m>\u001b[39m TxParams:\n\u001b[0;32m--> 344\u001b[0m     built_transaction \u001b[38;5;241m=\u001b[39m \u001b[38;5;28;43mself\u001b[39;49m\u001b[38;5;241;43m.\u001b[39;49m\u001b[43m_build_transaction\u001b[49m\u001b[43m(\u001b[49m\u001b[43mtransaction\u001b[49m\u001b[43m)\u001b[49m\n\u001b[1;32m    345\u001b[0m     abi_element_identifier \u001b[38;5;241m=\u001b[39m abi_to_signature(\u001b[38;5;28mself\u001b[39m\u001b[38;5;241m.\u001b[39mabi)\n\u001b[1;32m    347\u001b[0m     \u001b[38;5;28;01mreturn\u001b[39;00m build_transaction_for_function(\n\u001b[1;32m    348\u001b[0m         \u001b[38;5;28mself\u001b[39m\u001b[38;5;241m.\u001b[39maddress,\n\u001b[1;32m    349\u001b[0m         \u001b[38;5;28mself\u001b[39m\u001b[38;5;241m.\u001b[39mw3,\n\u001b[0;32m   (...)\u001b[0m\n\u001b[1;32m    355\u001b[0m         \u001b[38;5;241m*\u001b[39m\u001b[38;5;241m*\u001b[39m\u001b[38;5;28mself\u001b[39m\u001b[38;5;241m.\u001b[39mkwargs \u001b[38;5;129;01mor\u001b[39;00m {},\n\u001b[1;32m    356\u001b[0m     )\n",
      "File \u001b[0;32m/usr/local/lib/python3.10/dist-packages/web3/contract/base_contract.py:740\u001b[0m, in \u001b[0;36mBaseContractFunction._build_transaction\u001b[0;34m(self, transaction)\u001b[0m\n\u001b[1;32m    737\u001b[0m     \u001b[38;5;28;01mraise\u001b[39;00m Web3ValueError(\u001b[38;5;124m\"\u001b[39m\u001b[38;5;124mCannot set \u001b[39m\u001b[38;5;124m'\u001b[39m\u001b[38;5;124mdata\u001b[39m\u001b[38;5;124m'\u001b[39m\u001b[38;5;124m field in build transaction\u001b[39m\u001b[38;5;124m\"\u001b[39m)\n\u001b[1;32m    739\u001b[0m \u001b[38;5;28;01mif\u001b[39;00m \u001b[38;5;129;01mnot\u001b[39;00m \u001b[38;5;28mself\u001b[39m\u001b[38;5;241m.\u001b[39maddress \u001b[38;5;129;01mand\u001b[39;00m \u001b[38;5;124m\"\u001b[39m\u001b[38;5;124mto\u001b[39m\u001b[38;5;124m\"\u001b[39m \u001b[38;5;129;01mnot\u001b[39;00m \u001b[38;5;129;01min\u001b[39;00m built_transaction:\n\u001b[0;32m--> 740\u001b[0m     \u001b[38;5;28;01mraise\u001b[39;00m Web3ValueError(\n\u001b[1;32m    741\u001b[0m         \u001b[38;5;124m\"\u001b[39m\u001b[38;5;124mWhen using `ContractFunction.build_transaction` from a contract \u001b[39m\u001b[38;5;124m\"\u001b[39m\n\u001b[1;32m    742\u001b[0m         \u001b[38;5;124m\"\u001b[39m\u001b[38;5;124mfactory you must provide a `to` address with the transaction\u001b[39m\u001b[38;5;124m\"\u001b[39m\n\u001b[1;32m    743\u001b[0m     )\n\u001b[1;32m    744\u001b[0m \u001b[38;5;28;01mif\u001b[39;00m \u001b[38;5;28mself\u001b[39m\u001b[38;5;241m.\u001b[39maddress \u001b[38;5;129;01mand\u001b[39;00m \u001b[38;5;124m\"\u001b[39m\u001b[38;5;124mto\u001b[39m\u001b[38;5;124m\"\u001b[39m \u001b[38;5;129;01min\u001b[39;00m built_transaction:\n\u001b[1;32m    745\u001b[0m     \u001b[38;5;28;01mraise\u001b[39;00m Web3ValueError(\n\u001b[1;32m    746\u001b[0m         \u001b[38;5;124m\"\u001b[39m\u001b[38;5;124mCannot set \u001b[39m\u001b[38;5;124m'\u001b[39m\u001b[38;5;124mto\u001b[39m\u001b[38;5;124m'\u001b[39m\u001b[38;5;124m field in contract call build transaction\u001b[39m\u001b[38;5;124m\"\u001b[39m\n\u001b[1;32m    747\u001b[0m     )\n",
      "\u001b[0;31mWeb3ValueError\u001b[0m: When using `ContractFunction.build_transaction` from a contract factory you must provide a `to` address with the transaction"
     ]
    }
   ],
   "source": [
    "web3_address = 'http://127.0.0.1:8545'\n",
    "publisher_account_hash = '0xC459cc3AC9f8462Be2EF00aAD02fAc7af2e97b14'\n",
    "userKey = '0xda09f8cdec20b7c8334ce05b27e6797bef01c1ad79c59381666467552c5012e3'\n",
    "chain_id = 1337\n",
    "nonce = w3.eth.get_transaction_count(publisher_account_hash)\n",
    "user_address = \"0x35371F32C6e5787a2FDBbbd28DA42F0F03120b83\"\n",
    "tx = token_contract.functions.transfer(user_address, 100).build_transaction({\n",
    "    \"chainId\": chain_id,\n",
    "    \"gas\": 200000,\n",
    "    \"gasPrice\":  w3.eth.gas_price,\n",
    "    \"nonce\": nonce,\n",
    "    \"to\": \"0x2b49badd83623e0e2d61a0758e0a4ae022d06e13\"\n",
    "})\n",
    "\n"
   ]
  },
  {
   "cell_type": "code",
   "execution_count": 6,
   "metadata": {},
   "outputs": [],
   "source": [
    "\n",
    "\n",
    "import json\n",
    "\n",
    "with open(\"compiled_code.json\", \"w\") as file:\n",
    "    json.dump(compiled_sol, file)\n",
    "\n",
    "bytecode = compiled_sol[\"contracts\"][\"FestToken.sol\"][\"FestToken\"][\"evm\"][\n",
    "    \"bytecode\"\n",
    "][\"object\"]\n",
    "# get abi\n",
    "abi = compiled_sol[\"contracts\"][\"FestToken.sol\"][\"FestToken\"][\"abi\"]"
   ]
  },
  {
   "cell_type": "code",
   "execution_count": 7,
   "metadata": {},
   "outputs": [],
   "source": [
    "SimpleStorage = w3.eth.contract(abi=abi, bytecode=bytecode)\n",
    "# nonce = w3.eth.getTransactionCount(my_address)\n",
    "nonce = w3.eth.get_transaction_count(userAcc)\n",
    "chain_id = 1337\n",
    "transaction = SimpleStorage.constructor().build_transaction(\n",
    "    {\n",
    "        \"chainId\": chain_id,\n",
    "        \"gasPrice\": w3.eth.gas_price,\n",
    "        \"from\": userAcc,\n",
    "        \"nonce\": nonce,\n",
    "        # \"gas\": 20000000\n",
    "    }\n",
    ")\n"
   ]
  },
  {
   "cell_type": "code",
   "execution_count": 8,
   "metadata": {},
   "outputs": [],
   "source": [
    "signed_txn = w3.eth.account.sign_transaction(transaction, private_key=userKey)\n",
    "\n",
    "tx_hash = w3.eth.send_raw_transaction(signed_txn.raw_transaction)\n",
    "tx_receipt = w3.eth.wait_for_transaction_receipt(tx_hash)"
   ]
  },
  {
   "cell_type": "code",
   "execution_count": 9,
   "metadata": {},
   "outputs": [],
   "source": [
    "fest_token_address  = tx_receipt[\"contractAddress\"]"
   ]
  },
  {
   "cell_type": "code",
   "execution_count": 32,
   "metadata": {},
   "outputs": [],
   "source": [
    "with open(\"compiled_code.json\", \"w\") as file:\n",
    "    json.dump(compiled_sol, file)\n",
    "\n",
    "bytecode = compiled_sol[\"contracts\"][\"FestivalNFT.sol\"][\"FestivalNFT\"][\"evm\"][\n",
    "    \"bytecode\"\n",
    "][\"object\"]\n",
    "# get abi\n",
    "abi = compiled_sol[\"contracts\"][\"FestivalNFT.sol\"][\"FestivalNFT\"][\"abi\"]\n",
    "\n"
   ]
  },
  {
   "cell_type": "code",
   "execution_count": 33,
   "metadata": {},
   "outputs": [],
   "source": [
    "SimpleStorage = w3.eth.contract(abi=abi, bytecode=bytecode)\n",
    "# nonce = w3.eth.getTransactionCount(my_address)\n",
    "nonce = w3.eth.get_transaction_count(userAcc)\n",
    "chain_id = 1337\n",
    "festName = \"Happy Sunday\"\n",
    "FestSymbol = \"HS\"\n",
    "maxTicketLevel = 2\n",
    "ticketPriceList = [10,20,30]\n",
    "ticketSupplyList = [100,20,10]\n",
    "organiser = userAcc\n",
    "transaction = SimpleStorage.constructor(festName, FestSymbol, maxTicketLevel, ticketPriceList, ticketSupplyList, organiser).build_transaction(\n",
    "    {\n",
    "        \"chainId\": chain_id,\n",
    "        \"gasPrice\": w3.eth.gas_price,\n",
    "        \"from\": userAcc,\n",
    "        \"nonce\": nonce,\n",
    "        \"gas\": 160000000000000\n",
    "    }\n",
    ")\n"
   ]
  },
  {
   "cell_type": "code",
   "execution_count": 34,
   "metadata": {},
   "outputs": [],
   "source": [
    "signed_txn = w3.eth.account.sign_transaction(transaction, private_key=userKey)\n",
    "\n",
    "tx_hash = w3.eth.send_raw_transaction(signed_txn.raw_transaction)\n",
    "tx_receipt = w3.eth.wait_for_transaction_receipt(tx_hash)"
   ]
  },
  {
   "cell_type": "code",
   "execution_count": 35,
   "metadata": {},
   "outputs": [],
   "source": [
    "festival_nft_address = tx_receipt[\"contractAddress\"]"
   ]
  },
  {
   "cell_type": "code",
   "execution_count": 36,
   "metadata": {},
   "outputs": [],
   "source": [
    "with open(\"compiled_code.json\", \"w\") as file:\n",
    "    json.dump(compiled_sol, file)\n",
    "\n",
    "bytecode = compiled_sol[\"contracts\"][\"FestivalMarketplace.sol\"][\"FestivalMarketplace\"][\"evm\"][\n",
    "    \"bytecode\"\n",
    "][\"object\"]\n",
    "# get abi\n",
    "abi = compiled_sol[\"contracts\"][\"FestivalMarketplace.sol\"][\"FestivalMarketplace\"][\"abi\"]"
   ]
  },
  {
   "cell_type": "code",
   "execution_count": 37,
   "metadata": {},
   "outputs": [],
   "source": [
    "SimpleStorage = w3.eth.contract(abi=abi, bytecode=bytecode)\n",
    "# nonce = w3.eth.getTransactionCount(my_address)\n",
    "nonce = w3.eth.get_transaction_count(userAcc)\n",
    "chain_id = 1337\n",
    "# gas_estimate = SimpleStorage.constructor().estimate_gas({\n",
    "#     \"from\": userAcc,\n",
    "# })\n",
    "\n",
    "transaction = SimpleStorage.constructor(fest_token_address, festival_nft_address).build_transaction(\n",
    "    {\n",
    "        \"chainId\": chain_id,\n",
    "        \"gasPrice\": w3.eth.gas_price,\n",
    "        \"from\": userAcc,\n",
    "        \"nonce\": nonce,\n",
    "        \"gas\": 160000000000000\n",
    "    }\n",
    ")\n"
   ]
  },
  {
   "cell_type": "code",
   "execution_count": 38,
   "metadata": {},
   "outputs": [],
   "source": [
    "signed_txn = w3.eth.account.sign_transaction(transaction, private_key=userKey)\n",
    "\n",
    "tx_hash = w3.eth.send_raw_transaction(signed_txn.raw_transaction)\n",
    "tx_receipt = w3.eth.wait_for_transaction_receipt(tx_hash)"
   ]
  },
  {
   "cell_type": "code",
   "execution_count": 39,
   "metadata": {},
   "outputs": [],
   "source": [
    "with open(\"compiled_code.json\", \"w\") as file:\n",
    "    json.dump(compiled_sol, file)\n",
    "\n",
    "bytecode = compiled_sol[\"contracts\"][\"FestivalNFT.sol\"][\"FestivalNFT\"][\"evm\"][\n",
    "    \"bytecode\"\n",
    "][\"object\"]\n",
    "# get abi\n",
    "abi = compiled_sol[\"contracts\"][\"FestivalNFT.sol\"][\"FestivalNFT\"][\"abi\"]\n",
    "\n",
    "SimpleStorage = w3.eth.contract(abi=abi, bytecode=bytecode)\n",
    "\n",
    "nonce = w3.eth.get_transaction_count(userAcc)\n",
    "chain_id = 1337\n",
    "numOfTickets = 100\n",
    "ticketLevel = 0\n",
    "operator = userAcc\n",
    "transaction = SimpleStorage.functions.bulkMintTickets(numOfTickets, ticketLevel, operator).build_transaction(\n",
    "    {\n",
    "        \"chainId\": chain_id,\n",
    "        \"gasPrice\": w3.eth.gas_price,\n",
    "        \"from\": userAcc,\n",
    "        \"nonce\": nonce,\n",
    "        \"gas\": 160000000000000,\n",
    "        \"to\" : festival_nft_address\n",
    "    }\n",
    ")\n"
   ]
  },
  {
   "cell_type": "code",
   "execution_count": 40,
   "metadata": {},
   "outputs": [],
   "source": [
    "\n",
    "signed_txn = w3.eth.account.sign_transaction(transaction, private_key=userKey)\n",
    "\n",
    "tx_hash = w3.eth.send_raw_transaction(signed_txn.raw_transaction)\n",
    "tx_receipt = w3.eth.wait_for_transaction_receipt(tx_hash)"
   ]
  },
  {
   "cell_type": "code",
   "execution_count": 45,
   "metadata": {},
   "outputs": [],
   "source": [
    "nonce = w3.eth.get_transaction_count(userAcc)\n",
    "chain_id = 1337\n",
    "buyer = '0x364265FEcd8FBAEcFe1233DB157A083E561dC6BA'\n",
    "ticketLevel = 0\n",
    "operator = userAcc\n",
    "transaction = SimpleStorage.functions.transferTicket(buyer, ticketLevel).build_transaction(\n",
    "    {\n",
    "        \"chainId\": chain_id,\n",
    "        \"gasPrice\": w3.eth.gas_price,\n",
    "        \"from\": userAcc,\n",
    "        \"nonce\": nonce,\n",
    "        \"gas\": 160000000000000,\n",
    "        \"to\" : festival_nft_address\n",
    "    }\n",
    ")\n",
    "\n",
    "signed_txn = w3.eth.account.sign_transaction(transaction, private_key=userKey)\n",
    "\n",
    "tx_hash = w3.eth.send_raw_transaction(signed_txn.raw_transaction)\n",
    "tx_receipt = w3.eth.wait_for_transaction_receipt(tx_hash)"
   ]
  },
  {
   "cell_type": "code",
   "execution_count": null,
   "metadata": {},
   "outputs": [],
   "source": []
  }
 ],
 "metadata": {
  "kernelspec": {
   "display_name": "Python 3",
   "language": "python",
   "name": "python3"
  },
  "language_info": {
   "codemirror_mode": {
    "name": "ipython",
    "version": 3
   },
   "file_extension": ".py",
   "mimetype": "text/x-python",
   "name": "python",
   "nbconvert_exporter": "python",
   "pygments_lexer": "ipython3",
   "version": "3.10.12"
  }
 },
 "nbformat": 4,
 "nbformat_minor": 2
}
